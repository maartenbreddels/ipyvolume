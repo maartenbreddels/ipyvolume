{
 "cells": [
  {
   "cell_type": "code",
   "execution_count": 1,
   "metadata": {},
   "outputs": [],
   "source": [
    "#import sys\n",
    "#sys.path.append(\"..\")\n",
    "import warnings\n",
    "import numpy as np\n",
    "from numpy import cos, sin, pi\n",
    "from ipyvolume import pylab as p3\n",
    "import math\n",
    "from ipywidgets import widgets\n",
    "from ipywidgets import FloatRangeSlider, Dropdown, FloatSlider, ColorPicker\n",
    "from ipywidgets import interact, interactive, fixed, interact_manual\n",
    "\n",
    "try:\n",
    "    import scipy.ndimage\n",
    "    import scipy.special\n",
    "except:\n",
    "    pass\n",
    "\n",
    "def klein_bottle(\n",
    "    endpoint=True,\n",
    "    wireframe=False,\n",
    "    texture=None,\n",
    "    interval=1000,\n",
    "    material_lighting_model='DEFAULT',\n",
    "    material_opacity=1,\n",
    "    material_specular_color='white',\n",
    "    material_shininess=1,\n",
    "    material_emissive_color='black',\n",
    "    material_emissive_intensity=1.0,\n",
    "    material_roughness=0.0,\n",
    "    material_metalness=0.0,\n",
    "    material_cast_shadow=False,\n",
    "    material_receive_shadow=False\n",
    "):\n",
    "    # http://paulbourke.net/geometry/klein/\n",
    "    u = np.linspace(0, 2 * pi, num=50, endpoint=endpoint)\n",
    "    v = np.linspace(0, 2 * pi, num=50, endpoint=endpoint)\n",
    "    u, v = np.meshgrid(u, v)\n",
    "    r = 4 * (1 - cos(u) / 2)\n",
    "    x = 6 * cos(u) * (1 + sin(u)) + r * cos(u) * cos(v) * (u < pi) + r * cos(v + pi) * (u >= pi)\n",
    "    y = 16 * sin(u) + r * sin(u) * cos(v) * (u < pi)\n",
    "    z = r * sin(v)\n",
    "    mesh = p3.plot_mesh(\n",
    "                x,\n",
    "                y,\n",
    "                z,\n",
    "                #color='blue',\n",
    "                wrapx=not endpoint,\n",
    "                wrapy=not endpoint,\n",
    "                u=u / (2 * np.pi),\n",
    "                v=v / (2 * np.pi),\n",
    "                wireframe=wireframe,\n",
    "                texture=texture,\n",
    "                lighting_model=material_lighting_model,\n",
    "                opacity=material_opacity,\n",
    "                specular_color=material_specular_color,\n",
    "                shininess=material_shininess,\n",
    "                emissive_color=material_emissive_color,\n",
    "                emissive_intensity=material_emissive_intensity,\n",
    "                roughness=material_roughness,\n",
    "                metalness=material_metalness,\n",
    "                cast_shadow=material_cast_shadow,\n",
    "                receive_shadow=material_receive_shadow,\n",
    "            )\n",
    "\n",
    "    return mesh\n",
    "def worldplane(material_lighting_model='DEFAULT',\n",
    "    material_opacity=1,\n",
    "    material_specular_color='white',\n",
    "    material_shininess=1,\n",
    "    material_emissive_color='black',\n",
    "    material_emissive_intensity=1.0,\n",
    "    material_roughness=0.0,\n",
    "    material_metalness=0.0,\n",
    "    material_cast_shadow=False,\n",
    "    material_receive_shadow=False,\n",
    "):\n",
    "    k = 20\n",
    "    h = -15\n",
    "    tx = np.array([k, -k, -k, k])\n",
    "    tz = np.array([k, k, -k, -k])\n",
    "    ty = np.array([h, h, h, h])\n",
    "    \n",
    "    tri = [(0, 1, 2), (0, 2, 3)]\n",
    "    p = p3.plot_trisurf(\n",
    "        tx, \n",
    "        ty,\n",
    "        tz, \n",
    "        triangles=tri, \n",
    "        color='red', \n",
    "        lighting_model=material_lighting_model,\n",
    "        opacity=material_opacity,\n",
    "        specular_color=material_specular_color,\n",
    "        shininess=material_shininess,\n",
    "        emissive_color=material_emissive_color,\n",
    "        emissive_intensity=material_emissive_intensity,\n",
    "        roughness=material_roughness,\n",
    "        metalness=material_metalness,\n",
    "        cast_shadow=material_cast_shadow,\n",
    "        receive_shadow=material_receive_shadow)\n",
    "    return p\n",
    "    \n",
    "def test_surface(material_lighting_model='DEFAULT',\n",
    "    material_opacity=1,\n",
    "    material_specular_color='white',\n",
    "    material_shininess=1,\n",
    "    material_emissive_color='black',\n",
    "    material_emissive_intensity=1.0,\n",
    "    material_roughness=0.0,\n",
    "    material_metalness=0.0,\n",
    "    material_cast_shadow=False,\n",
    "    material_receive_shadow=False\n",
    "):\n",
    "    X = np.arange(-10, 10, 0.25*1)-10\n",
    "    Y = np.arange(-10, 10, 0.25*1)\n",
    "    X, Y = np.meshgrid(X, Y)\n",
    "    R = np.sqrt(X**2 + Y**2)\n",
    "    Z = np.sin(R)\n",
    "\n",
    "    surf = p3.plot_surface(\n",
    "        X+10, \n",
    "        Z-10, \n",
    "        Y+5, \n",
    "        color=\"red\",\n",
    "        lighting_model=material_lighting_model,\n",
    "        opacity=material_opacity,\n",
    "        specular_color=material_specular_color,\n",
    "        shininess=material_shininess,\n",
    "        emissive_color=material_emissive_color,\n",
    "        emissive_intensity=material_emissive_intensity,\n",
    "        roughness=material_roughness,\n",
    "        metalness=material_metalness,\n",
    "        cast_shadow=material_cast_shadow,\n",
    "        receive_shadow=material_receive_shadow,)\n",
    "    return surf\n",
    "\n",
    "def plot_all(kb=False, wp=True, ts=False):\n",
    "    p3.clear()\n",
    "    p3.figure()\n",
    "    if kb:\n",
    "        klein_bottle(material_lighting_model='PHYSICAL', \n",
    "                     material_shininess=10, \n",
    "                     material_roughness=0.1, \n",
    "                     material_metalness=0.1,\n",
    "                     material_cast_shadow=True,\n",
    "                     material_receive_shadow=True)\n",
    "    if wp:\n",
    "        worldplane(material_lighting_model='PHYSICAL', \n",
    "                     material_shininess=10, \n",
    "                     material_roughness=0.1, \n",
    "                     material_metalness=0.1,\n",
    "                     material_cast_shadow=True,\n",
    "                     material_receive_shadow=True)\n",
    "    if ts:\n",
    "        test_surface(material_lighting_model='PHYSICAL', \n",
    "                     material_shininess=10, \n",
    "                     material_roughness=0.1, \n",
    "                     material_metalness=0.1,\n",
    "                     material_cast_shadow=True,\n",
    "                     material_receive_shadow=True)\n",
    "    p3.show()\n",
    "\n",
    "def plot_all_no_change(kb=False, wp=True, ts=False):\n",
    "    k=None\n",
    "    w=None\n",
    "    s=None\n",
    "    p3.clear()\n",
    "    p3.figure()\n",
    "    if kb:\n",
    "        k=klein_bottle()\n",
    "    if wp:\n",
    "        w=worldplane()\n",
    "    if ts:\n",
    "        s=test_surface()\n",
    "    p3.show()\n",
    "    \n",
    "    return [k,w,s] \n",
    "\n",
    "def lights_dir_spot():\n",
    "    dir1=p3.directional_light(light_color='green', \n",
    "        intensity=1.0,\n",
    "        position=[30,30,30],\n",
    "        target=[0,20,30],\n",
    "        cast_shadow=True,\n",
    "        shadow_map_size=512,\n",
    "        shadow_map_type='PCF_SOFT',\n",
    "        shadow_bias=-0.005)\n",
    "    sp1=p3.spot_light(light_color='yellow',\n",
    "        intensity=1,\n",
    "        position=[20,30,20],\n",
    "        target=[-20,-20,-20],\n",
    "        angle=math.pi/9,\n",
    "        distance=200,\n",
    "        penumbra=0.5,\n",
    "        cast_shadow=True,\n",
    "        shadow_map_size=1024,\n",
    "        shadow_map_type='PCF_SOFT',\n",
    "        shadow_camera_perspective_fov=50,\n",
    "        shadow_camera_perspective_aspect=1,\n",
    "        shadow_bias=-0.0005)"
   ]
  },
  {
   "cell_type": "markdown",
   "metadata": {},
   "source": [
    "# Plot a plane and a sinusoidal surface"
   ]
  },
  {
   "cell_type": "code",
   "execution_count": 23,
   "metadata": {},
   "outputs": [
    {
     "data": {
      "application/vnd.jupyter.widget-view+json": {
       "model_id": "53876d4ecc6e4f38890459f619d6b8fe",
       "version_major": 2,
       "version_minor": 0
      },
      "text/plain": [
       "VBox(children=(Figure(camera=PerspectiveCamera(fov=45.0, position=(0.0, 0.0, 2.0), quaternion=(0.0, 0.0, 0.0, …"
      ]
     },
     "metadata": {},
     "output_type": "display_data"
    }
   ],
   "source": [
    "[bottle, plane, surf] = plot_all_no_change(kb=False, wp=True, ts=True)"
   ]
  },
  {
   "cell_type": "code",
   "execution_count": 3,
   "metadata": {},
   "outputs": [],
   "source": [
    "# No need to change the lighting model manually\n",
    "# whenever a light is added to the figure, the lighting model of the meshes will\n",
    "# be updated to 'PHYSICAL'\n",
    "#surf.lighting_model = 'PHYSICAL'\n",
    "#plane.lighting_model = 'PHYSICAL'"
   ]
  },
  {
   "cell_type": "markdown",
   "metadata": {},
   "source": [
    "# Add a directional light and a spot light"
   ]
  },
  {
   "cell_type": "code",
   "execution_count": 13,
   "metadata": {},
   "outputs": [],
   "source": [
    "lights_dir_spot()"
   ]
  },
  {
   "cell_type": "markdown",
   "metadata": {},
   "source": [
    "# Set Emissive components"
   ]
  },
  {
   "cell_type": "code",
   "execution_count": 4,
   "metadata": {},
   "outputs": [],
   "source": [
    "# Emissive (light) color of the material, essentially a solid color unaffected by other lighting. Default is black.\n",
    "surf.emissive_color='white'"
   ]
  },
  {
   "cell_type": "code",
   "execution_count": 5,
   "metadata": {},
   "outputs": [],
   "source": [
    "surf.emissive_intensity=0.2"
   ]
  },
  {
   "cell_type": "code",
   "execution_count": 6,
   "metadata": {},
   "outputs": [],
   "source": [
    "plane.emissive_color='orange'\n",
    "surf.emissive_intensity=0.1;"
   ]
  },
  {
   "cell_type": "markdown",
   "metadata": {},
   "source": [
    "# Physical Lighting components"
   ]
  },
  {
   "cell_type": "code",
   "execution_count": 7,
   "metadata": {},
   "outputs": [],
   "source": [
    "# roughness - How rough the material appears. 0.0 means a smooth mirror reflection, 1.0 means fully diffuse. \n",
    "# Default is 1.0.\n",
    "# metalness - How much the material is like a metal. Non-metallic materials such as wood or stone use 0.0, \n",
    "# metallic use 1.0, with nothing (usually) in between. \n",
    "# Default is 0.0. A value between 0.0 and 1.0 could be used for a rusty metal look.\n",
    "# PHYISICAL ONLY\n",
    "\n",
    "surf.roughness=0.1\n",
    "plane.roughness=0.1\n",
    "surf.metalness=0.6\n",
    "plane.metalness=0.6"
   ]
  },
  {
   "cell_type": "code",
   "execution_count": 8,
   "metadata": {},
   "outputs": [],
   "source": [
    "# 1.0 - completely opaque; 0.0 - completely transparent\n",
    "surf.opacity = 0.1"
   ]
  },
  {
   "cell_type": "markdown",
   "metadata": {},
   "source": [
    "# Phong Lighting components"
   ]
  },
  {
   "cell_type": "code",
   "execution_count": 9,
   "metadata": {},
   "outputs": [],
   "source": [
    "# specular_color - A specular highlight is the bright spot of light that appears on shiny objects when illuminated\n",
    "# shininess - specular intensity\n",
    "# PHONG ONLY\n",
    "# Bui Tuong Phong, Illumination of Computer-Generated Images, Department of Computer Science, University of Utah, UTEC-CSs-73-129, July 1973.\n",
    "# Bui Tuong Phong, \"Illumination for Computer Generated Pictures,\" Comm. ACM, Vol 18(6):311-317, June 1975.\n",
    "surf.lighting_model = 'PHONG'\n",
    "surf.specular_color='red' \n",
    "surf.shininess=100 \n",
    "surf.opacity = 0.9 #not Phong only"
   ]
  },
  {
   "cell_type": "markdown",
   "metadata": {},
   "source": [
    "# Add shadows"
   ]
  },
  {
   "cell_type": "code",
   "execution_count": 14,
   "metadata": {},
   "outputs": [],
   "source": [
    "# Meshes can cast shadows and/or receive shadows\n",
    "surf.cast_shadow=True\n",
    "plane.receive_shadow=True"
   ]
  },
  {
   "cell_type": "markdown",
   "metadata": {},
   "source": [
    "# Lambert Lighting components"
   ]
  },
  {
   "cell_type": "code",
   "execution_count": 15,
   "metadata": {},
   "outputs": [],
   "source": [
    "# Lambertian reflectance is the property that defines an ideal \"matte\" or diffusely reflecting surface.\n",
    "surf.lighting_model = 'LAMBERT'\n",
    "surf.opacity = 0.5"
   ]
  },
  {
   "cell_type": "markdown",
   "metadata": {},
   "source": [
    "# Ambient Light"
   ]
  },
  {
   "cell_type": "code",
   "execution_count": 13,
   "metadata": {},
   "outputs": [
    {
     "data": {
      "application/vnd.jupyter.widget-view+json": {
       "model_id": "49d92fcb8a5b4b2ba657ffbcf4c61575",
       "version_major": 2,
       "version_minor": 0
      },
      "text/plain": [
       "VBox(children=(Figure(camera=PerspectiveCamera(fov=45.0, position=(0.0, 0.0, 2.0), quaternion=(0.0, 0.0, 0.0, …"
      ]
     },
     "metadata": {},
     "output_type": "display_data"
    }
   ],
   "source": [
    "#####################################################\n",
    "# AMBIENT LIGHT\n",
    "plot_all(kb=False, wp=True, ts=True)#lighting model set to 'PHYSICAL'"
   ]
  },
  {
   "cell_type": "code",
   "execution_count": 14,
   "metadata": {},
   "outputs": [],
   "source": [
    "# light_color - default white\n",
    "# intensity - default  1\n",
    "ambient1 = p3.ambient_light()"
   ]
  },
  {
   "cell_type": "code",
   "execution_count": 15,
   "metadata": {},
   "outputs": [],
   "source": [
    "ambient1.light_color='red'\n",
    "ambient1.intensity=2.0"
   ]
  },
  {
   "cell_type": "markdown",
   "metadata": {},
   "source": [
    "# Hemisphere Light"
   ]
  },
  {
   "cell_type": "code",
   "execution_count": 16,
   "metadata": {},
   "outputs": [
    {
     "data": {
      "application/vnd.jupyter.widget-view+json": {
       "model_id": "4ff0692662ca44b7bda6b6c6de6d677c",
       "version_major": 2,
       "version_minor": 0
      },
      "text/plain": [
       "VBox(children=(Figure(camera=PerspectiveCamera(fov=45.0, position=(0.0, 0.0, 2.0), quaternion=(0.0, 0.0, 0.0, …"
      ]
     },
     "metadata": {},
     "output_type": "display_data"
    }
   ],
   "source": [
    "#####################################################\n",
    "# HEMISPHERE LIGHT\n",
    "# light_color - default white - upper light\n",
    "# light_color2 - default white - bottom light\n",
    "# intensity - default  1\n",
    "# position_x, position_y, position_z - default [0, 1, 0] \n",
    "plot_all(kb=False, wp=True, ts=True)"
   ]
  },
  {
   "cell_type": "code",
   "execution_count": 17,
   "metadata": {},
   "outputs": [],
   "source": [
    "hemisphere1 = p3.hemisphere_light()"
   ]
  },
  {
   "cell_type": "code",
   "execution_count": 18,
   "metadata": {},
   "outputs": [],
   "source": [
    "hemisphere1.light_color='orange'\n",
    "hemisphere1.light_color2='blue'\n",
    "hemisphere1.intensity=1.5\n",
    "hemisphere1.position_x = 1\n",
    "hemisphere1.position_y = 0\n",
    "hemisphere1.position_z = 0"
   ]
  },
  {
   "cell_type": "markdown",
   "metadata": {},
   "source": [
    "# Directional Light"
   ]
  },
  {
   "cell_type": "code",
   "execution_count": 19,
   "metadata": {},
   "outputs": [
    {
     "data": {
      "application/vnd.jupyter.widget-view+json": {
       "model_id": "c819fe6f700a4134bc1d20794d215cf4",
       "version_major": 2,
       "version_minor": 0
      },
      "text/plain": [
       "VBox(children=(Figure(camera=PerspectiveCamera(fov=45.0, position=(0.0, 0.0, 2.0), quaternion=(0.0, 0.0, 0.0, …"
      ]
     },
     "metadata": {},
     "output_type": "display_data"
    }
   ],
   "source": [
    "#####################################################\n",
    "# DIRECTIONAL LIGHT\n",
    "# light_color - default white\n",
    "# intensity - default  1\n",
    "# position_x, position_y, position_z - default [0, 1, 0] \n",
    "# target_x, target_y, target_z - default [0, 0, 0]\n",
    "# cast_shadow - default False\n",
    "# shadow_map_size - default 512\n",
    "# shadow_bias - default -0.0005\n",
    "# shadow_radius - default 1\n",
    "# shadow_camera_near - default 0.5\n",
    "# shadow_camera_far - default 500\n",
    "# shadow_camera_orthographic_size - default 100\n",
    "# shadow_map_type - default 'PCF_SOFT'  - 'BASIC', 'PCF', 'PCF_SOFT'\n",
    "\n",
    "plot_all(kb=True, wp=True, ts=False)\n",
    "directional1=p3.directional_light()\n"
   ]
  },
  {
   "cell_type": "code",
   "execution_count": 20,
   "metadata": {},
   "outputs": [],
   "source": [
    "directional1.light_color='green'\n",
    "directional1.intensity=1.0"
   ]
  },
  {
   "cell_type": "code",
   "execution_count": 21,
   "metadata": {},
   "outputs": [],
   "source": [
    "#light position\n",
    "directional1.position_x=30\n",
    "directional1.position_y=30\n",
    "directional1.position_z=-30\n",
    "#look at position\n",
    "directional1.target_x=0\n",
    "directional1.target_y=-20\n",
    "directional1.target_z=-30"
   ]
  },
  {
   "cell_type": "code",
   "execution_count": 22,
   "metadata": {},
   "outputs": [],
   "source": [
    "# if some shadow settings do not update, due to a THREE.JS issue\n",
    "# the settings should be updated when setting cast_shadow to False, Run cell, turn back to True and Run cell again\n",
    "directional1.cast_shadow=True\n",
    "directional1.shadow_map_size=512\n",
    "directional1.shadow_map_type='PCF_SOFT'\n",
    "# Setting this to values greater than 1 will blur the edges of the shadow.\n",
    "# High values will cause unwanted banding effects in the shadows - a greater mapSize will allow for a higher value to be used here before these effects become visible.\n",
    "# If shadow_map_type is set to PCF_SOFT, shadow_radius has no effect and it is recommended to increase softness by decreasing mapSize instead.\n",
    "directional1.shadow_radius = 5 \n",
    "#solves shadow acne issues\n",
    "directional1.shadow_bias=-0.005\n",
    "directional1.shadow_camera_orthographic_size=100"
   ]
  },
  {
   "cell_type": "markdown",
   "metadata": {},
   "source": [
    "# Point Light"
   ]
  },
  {
   "cell_type": "code",
   "execution_count": 27,
   "metadata": {},
   "outputs": [
    {
     "data": {
      "application/vnd.jupyter.widget-view+json": {
       "model_id": "94b122b532cd41529f9cf9d03bbf94fa",
       "version_major": 2,
       "version_minor": 0
      },
      "text/plain": [
       "VBox(children=(Figure(camera=PerspectiveCamera(fov=45.0, position=(0.0, 0.0, 2.0), quaternion=(0.0, 0.0, 0.0, …"
      ]
     },
     "metadata": {},
     "output_type": "display_data"
    }
   ],
   "source": [
    "#####################################################\n",
    "# POINT LIGHT\n",
    "# light_color - default white\n",
    "# intensity - default 1\n",
    "# position_x, position_y, position_z - default [0, 1, 0]\n",
    "# distance - default 0\n",
    "# decay - default 1\n",
    "# cast_shadow - default False\n",
    "# shadow_map_size - default 512\n",
    "# shadow_bias - default -0.0005\n",
    "# shadow_radius - default 1\n",
    "# shadow_camera_near - default 0.5\n",
    "# shadow_camera_far - default 500\n",
    "# shadow_map_type - default 'PCF_SOFT'  - 'BASIC', 'PCF', 'PCF_SOFT'\n",
    "plot_all(kb=True, wp=True, ts=False)\n",
    "point1=p3.point_light()\n"
   ]
  },
  {
   "cell_type": "code",
   "execution_count": 28,
   "metadata": {},
   "outputs": [],
   "source": [
    "point1.position_x=20\n",
    "point1.position_y=20\n",
    "point1.position_z=20"
   ]
  },
  {
   "cell_type": "code",
   "execution_count": 25,
   "metadata": {},
   "outputs": [],
   "source": [
    "point1.distance = 100 # Maximum range of the light. Default is 0 (no limit)."
   ]
  },
  {
   "cell_type": "code",
   "execution_count": 26,
   "metadata": {},
   "outputs": [],
   "source": [
    "# The amount the light dims along the distance of the light. \n",
    "# Default is 1. For physically correct lighting, set this to 2.\n",
    "point1.decay = 0 "
   ]
  },
  {
   "cell_type": "code",
   "execution_count": 27,
   "metadata": {},
   "outputs": [],
   "source": [
    "point1.light_color='blue'\n",
    "point1.intensity=1.5"
   ]
  },
  {
   "cell_type": "code",
   "execution_count": 29,
   "metadata": {},
   "outputs": [],
   "source": [
    "# if some shadow settings do not update, due to a THREE.JS issue\n",
    "# the settings should be updated when setting cast_shadow to False, Run cell, turn back to True and Run cell again\n",
    "point1.cast_shadow=True\n",
    "point1.shadow_map_size=512\n",
    "point1.shadow_map_type='PCF'\n",
    "# Setting this to values greater than 1 will blur the edges of the shadow.\n",
    "# High values will cause unwanted banding effects in the shadows - a greater mapSize will allow for a higher value to be used here before these effects become visible.\n",
    "# If shadow_map_type is set to PCF_SOFT, shadow_radius has no effect and it is recommended to increase softness by decreasing mapSize instead.\n",
    "point1.shadow_radius=10 \n",
    "# solves shadow acne issues\n",
    "point1.shadow_bias=-0.005"
   ]
  },
  {
   "cell_type": "markdown",
   "metadata": {},
   "source": [
    "# Spot Light"
   ]
  },
  {
   "cell_type": "code",
   "execution_count": 29,
   "metadata": {},
   "outputs": [
    {
     "data": {
      "application/vnd.jupyter.widget-view+json": {
       "model_id": "d3e12c32718641939e1b4cad33f9507b",
       "version_major": 2,
       "version_minor": 0
      },
      "text/plain": [
       "VBox(children=(Figure(camera=PerspectiveCamera(fov=45.0, position=(0.0, 0.0, 2.0), quaternion=(0.0, 0.0, 0.0, …"
      ]
     },
     "metadata": {},
     "output_type": "display_data"
    }
   ],
   "source": [
    "#####################################################\n",
    "# SPOT LIGHT\n",
    "# light_color - default white\n",
    "# intensity - default 1\n",
    "# position_x, position_y, position_z - default [0, 1, 0]\n",
    "# target_x, target_y, target_z - default [0, 0, 0]\n",
    "# angle - default math.pi/3\n",
    "# distance - default 0\n",
    "# decay - default 1\n",
    "# penumbra - default 0\n",
    "# cast_shadow - default False\n",
    "# shadow_map_size - default 512\n",
    "# shadow_bias - default -0.0005\n",
    "# shadow_radius - default 1\n",
    "# shadow_camera_near - default 0.5\n",
    "# shadow_camera_far - default 500\n",
    "# shadow_camera_perspective_fov - default 50\n",
    "# shadow_camera_perspective_aspect - default 1\n",
    "# shadow_map_type - default 'PCF_SOFT' - 'BASIC', 'PCF', 'PCF_SOFT'\n",
    "\n",
    "plot_all(kb=True, wp=True, ts=False)\n",
    "spot1=p3.spot_light()\n"
   ]
  },
  {
   "cell_type": "code",
   "execution_count": 30,
   "metadata": {},
   "outputs": [],
   "source": [
    "spot1.light_color='yellow' \n",
    "spot1.intensity=1\n",
    "spot1.position_x=20\n",
    "spot1.position_y=30\n",
    "spot1.position_z=20\n",
    "\n",
    "spot1.target_x=-20\n",
    "spot1.target_y=-20\n",
    "spot1.target_z=-20\n",
    "\n",
    "spot1.angle=math.pi/9"
   ]
  },
  {
   "cell_type": "code",
   "execution_count": 31,
   "metadata": {},
   "outputs": [],
   "source": [
    "# Default mode — When distance is zero, light does not attenuate. \n",
    "# When distance is non-zero, light will attenuate linearly from maximum intensity at the \n",
    "# light's position down to zero at this distance from the light.\n",
    "# Physically correct mode — When distance is zero, light will attenuate according to inverse-square law to infinite distance. \n",
    "# When distance is non-zero, light will attenuate according to inverse-square law until near the distance cutoff, \n",
    "# where it will then attenuate quickly and smoothly to 0. Inherently, cutoffs are not physically correct.\n",
    "# Default is 0.0.\n",
    "spot1.distance=200"
   ]
  },
  {
   "cell_type": "code",
   "execution_count": 33,
   "metadata": {},
   "outputs": [],
   "source": [
    "# The amount the light dims along the distance of the light.\n",
    "# In physically correct mode, decay = 2 leads to physically realistic light falloff. The default is 1.\n",
    "spot1.decay=0"
   ]
  },
  {
   "cell_type": "code",
   "execution_count": 34,
   "metadata": {},
   "outputs": [],
   "source": [
    "# Percent of the spotlight cone that is attenuated due to penumbra. \n",
    "# Takes values between zero and 1. The default is 0.0.\n",
    "spot1.penumbra=0.5"
   ]
  },
  {
   "cell_type": "code",
   "execution_count": 35,
   "metadata": {},
   "outputs": [],
   "source": [
    "# If some shadow settings do not update, due to a THREE.JS issue\n",
    "# the settings should be updated when setting cast_shadow to False, Run cell, turn back to True and Run cell again\n",
    "spot1.cast_shadow=True\n",
    "spot1.shadow_map_size=1024\n",
    "spot1.shadow_map_type='PCF_SOFT'\n",
    "\n",
    "spot1.shadow_camera_perspective_fov=50\n",
    "# change the shadow camera aspect\n",
    "shadow_camera_perspective_aspect=1\n",
    "\n",
    "# Setting this to values greater than 1 will blur the edges of the shadow.\n",
    "# High values will cause unwanted banding effects in the shadows - a greater mapSize will allow for a higher value to be used here before these effects become visible.\n",
    "# If shadow_map_type is set to PCF_SOFT, radius has no effect and it is recommended to increase softness by decreasing mapSize instead.\n",
    "spot1.shadow_radius=5 \n",
    "# solves shadow acne issues\n",
    "spot1.shadow_bias=-0.0005"
   ]
  },
  {
   "cell_type": "markdown",
   "metadata": {},
   "source": [
    "# Animated Light"
   ]
  },
  {
   "cell_type": "code",
   "execution_count": 47,
   "metadata": {},
   "outputs": [
    {
     "data": {
      "application/vnd.jupyter.widget-view+json": {
       "model_id": "c993ddb4d5ac496ca269b14532c3aa0b",
       "version_major": 2,
       "version_minor": 0
      },
      "text/plain": [
       "VBox(children=(Figure(camera=PerspectiveCamera(fov=45.0, position=(0.0, 0.0, 2.0), quaternion=(0.0, 0.0, 0.0, …"
      ]
     },
     "metadata": {},
     "output_type": "display_data"
    }
   ],
   "source": [
    "[b1, p1, s1] = plot_all_no_change(kb=True, wp=True, ts=False)\n",
    "point1=p3.point_light()\n"
   ]
  },
  {
   "cell_type": "code",
   "execution_count": 48,
   "metadata": {},
   "outputs": [],
   "source": [
    "# Light and shadow Setup\n",
    "point1.position_x=20\n",
    "point1.position_y=10\n",
    "point1.position_z=0\n",
    "point1.cast_shadow = True\n",
    "b1.cast_shadow = True\n",
    "b1.receive_shadow = True\n",
    "p1.receive_shadow = True\n",
    "point1.shadow_map_type='PCF_SOFT'\n",
    "point1.shadow_map_size=1024\n",
    "# point1.shadow_radius=20 \n",
    "point1.decay = 2"
   ]
  },
  {
   "cell_type": "code",
   "execution_count": 49,
   "metadata": {},
   "outputs": [
    {
     "data": {
      "application/vnd.jupyter.widget-view+json": {
       "model_id": "4a6e362235ab4017ac86e9b85dea240c",
       "version_major": 2,
       "version_minor": 0
      },
      "text/plain": [
       "Output()"
      ]
     },
     "metadata": {},
     "output_type": "display_data"
    }
   ],
   "source": [
    "# Generating gif with animated light position\n",
    "def set_pos(fig, i, fraction):\n",
    "    point1.position_x = np.sin(2*np.pi*fraction) * 20\n",
    "    point1.position_z = np.cos(2*np.pi*fraction) * 20\n",
    "    \n",
    "# a = p3.movie('rotatelight.gif', set_pos, fps=20, frames=40, endpoint=False, cmd_template_gif)"
   ]
  },
  {
   "cell_type": "markdown",
   "metadata": {},
   "source": [
    "<img src=\"./rotatelight.gif\" width=\"400\" align=\"center\">"
   ]
  }
 ],
 "metadata": {
  "kernelspec": {
   "display_name": "Python 3",
   "language": "python",
   "name": "python3"
  },
  "language_info": {
   "codemirror_mode": {
    "name": "ipython",
    "version": 3
   },
   "file_extension": ".py",
   "mimetype": "text/x-python",
   "name": "python",
   "nbconvert_exporter": "python",
   "pygments_lexer": "ipython3",
   "version": "3.6.10"
  }
 },
 "nbformat": 4,
 "nbformat_minor": 2
}
