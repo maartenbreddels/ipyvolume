{
 "cells": [
  {
   "cell_type": "code",
   "execution_count": 18,
   "metadata": {},
   "outputs": [],
   "source": [
    "import warnings\n",
    "import numpy as np\n",
    "from numpy import cos, sin, pi\n",
    "from ipyvolume import pylab as p3\n",
    "import math\n",
    "import ipywidgets as widgets\n",
    "try:\n",
    "    import scipy.ndimage\n",
    "    import scipy.special\n",
    "except:\n",
    "    pass\n",
    "    \n",
    "def klein_bottle(\n",
    "    endpoint=True,\n",
    "    tab=None,\n",
    "    index=0,\n",
    "    color='red',\n",
    "    flat_shading=True):\n",
    "    # http://paulbourke.net/geometry/klein/\n",
    "    u = np.linspace(0, 2 * pi, num=50, endpoint=endpoint)\n",
    "    v = np.linspace(0, 2 * pi, num=50, endpoint=endpoint)\n",
    "    u, v = np.meshgrid(u, v)\n",
    "    r = 4 * (1 - cos(u) / 2)\n",
    "    x = 6 * cos(u) * (1 + sin(u)) + r * cos(u) * cos(v) * (u < pi) + r * cos(v + pi) * (u >= pi)\n",
    "    y = 16 * sin(u) + r * sin(u) * cos(v) * (u < pi)\n",
    "    z = r * sin(v)\n",
    "    mesh = p3.plot_mesh(x=x, y=y, z=z, wireframe=False, wrapx=not endpoint, wrapy=not endpoint,\n",
    "                u=u / (2 * np.pi), v=v / (2 * np.pi), color=color, flat_shading=flat_shading)\n",
    "    p3.setup_material_widgets(mesh=mesh, tab=tab, index=index)\n",
    "    return mesh\n",
    "    \n",
    "def worldplane(\n",
    "    tab=None,\n",
    "    index=0,\n",
    "    color='red',\n",
    "    flat_shading=True):\n",
    "    k = 20\n",
    "    h = -15\n",
    "    tx = np.array([k, -k, -k, k])\n",
    "    tz = np.array([k, k, -k, -k])\n",
    "    ty = np.array([h, h, h, h])\n",
    "    tri = [(0, 1, 2), (0, 2, 3)]\n",
    "    p = p3.plot_trisurf(x=tx, y=ty, z=tz, triangles=tri, color=color, flat_shading=flat_shading)\n",
    "    p3.setup_material_widgets(mesh=p, tab=tab, index=index)\n",
    "    return p\n",
    "    \n",
    "def test_surface(\n",
    "    tab=None,\n",
    "    index=0,\n",
    "    color='red',\n",
    "    flat_shading=True):\n",
    "    X = np.arange(-10, 10, 0.25*1)-10\n",
    "    Y = np.arange(-10, 10, 0.25*1)\n",
    "    X, Y = np.meshgrid(X, Y)\n",
    "    R = np.sqrt(X**2 + Y**2)\n",
    "    Z = np.sin(R)\n",
    "    surf = p3.plot_surface(x=X+10, y=Z-10, z=Y+5, color=color, flat_shading=flat_shading)\n",
    "    p3.setup_material_widgets(mesh=surf, tab=tab, index=index)\n",
    "    return surf\n",
    "\n",
    "def plot_all(kb=False, \n",
    "             ts=False, \n",
    "             wp=True, \n",
    "             color='red', \n",
    "             flat_shading=True, \n",
    "             show_ui=True):\n",
    "    k=None\n",
    "    w=None\n",
    "    s=None\n",
    "    p3.clear()\n",
    "    p3.figure()\n",
    "    tab = widgets.Tab() if show_ui == True else None\n",
    "    index = 0\n",
    "\n",
    "    if kb:\n",
    "        k=klein_bottle(tab=tab, index=index, color=color, flat_shading=flat_shading)\n",
    "        index+=1\n",
    "    if ts:\n",
    "        s=test_surface(tab=tab, index=index, color=color, flat_shading=flat_shading)\n",
    "        index+=1\n",
    "    if wp:\n",
    "        w=worldplane(tab=tab, index=index, color=color, flat_shading=flat_shading)\n",
    "    p3.show()\n",
    "    display(tab)\n",
    "    return [k,w,s] \n",
    "\n",
    "def lights_dir_spot():\n",
    "    dir1=p3.directional_light(light_color='blue', \n",
    "        intensity=1.0,\n",
    "        position=[30,30,30],\n",
    "        target=[0,20,30])\n",
    "    sp1=p3.spot_light(light_color='yellow',\n",
    "        intensity=1,\n",
    "        position=[20,30,20],\n",
    "        target=[-20,-20,-20])"
   ]
  },
  {
   "cell_type": "markdown",
   "metadata": {},
   "source": [
    "# Ambient Light"
   ]
  },
  {
   "cell_type": "code",
   "execution_count": 14,
   "metadata": {},
   "outputs": [
    {
     "data": {
      "application/vnd.jupyter.widget-view+json": {
       "model_id": "cbb4274be08641bb9f63ad021df82c32",
       "version_major": 2,
       "version_minor": 0
      },
      "text/plain": [
       "VBox(children=(Figure(camera=PerspectiveCamera(fov=45.0, position=(0.0, 0.0, 2.0), quaternion=(0.0, 0.0, 0.0, …"
      ]
     },
     "metadata": {},
     "output_type": "display_data"
    },
    {
     "data": {
      "text/plain": [
       "None"
      ]
     },
     "metadata": {},
     "output_type": "display_data"
    },
    {
     "data": {
      "application/vnd.jupyter.widget-view+json": {
       "model_id": "197f42cf389647268f807c9c3e508c6c",
       "version_major": 2,
       "version_minor": 0
      },
      "text/plain": [
       "Tab(children=(VBox(children=(ColorPicker(value='green', description='Light Color:', layout=Layout(width='450px…"
      ]
     },
     "metadata": {},
     "output_type": "display_data"
    }
   ],
   "source": [
    "plot_all(kb=True, ts=False, wp=True, show_ui=False)\n",
    "tab = widgets.Tab()\n",
    "light = p3.ambient_light(light_color=\"green\")\n",
    "p3.setup_light_widgets(light=light, tab=tab, index=0)\n",
    "display(tab)"
   ]
  },
  {
   "cell_type": "markdown",
   "metadata": {},
   "source": [
    "# Hemisphere Light"
   ]
  },
  {
   "cell_type": "code",
   "execution_count": 6,
   "metadata": {},
   "outputs": [
    {
     "data": {
      "application/vnd.jupyter.widget-view+json": {
       "model_id": "fcdd16451c66442d89d1975efa7fa61c",
       "version_major": 2,
       "version_minor": 0
      },
      "text/plain": [
       "VBox(children=(Figure(camera=PerspectiveCamera(fov=45.0, position=(0.0, 0.0, 2.0), quaternion=(0.0, 0.0, 0.0, …"
      ]
     },
     "metadata": {},
     "output_type": "display_data"
    },
    {
     "data": {
      "text/plain": [
       "None"
      ]
     },
     "metadata": {},
     "output_type": "display_data"
    },
    {
     "data": {
      "application/vnd.jupyter.widget-view+json": {
       "model_id": "48998a3df5514e27a68e02b230fa3b1e",
       "version_major": 2,
       "version_minor": 0
      },
      "text/plain": [
       "Tab(children=(VBox(children=(ColorPicker(value='#ffffff', description='Light Color:', layout=Layout(width='450…"
      ]
     },
     "metadata": {},
     "output_type": "display_data"
    }
   ],
   "source": [
    "plot_all(kb=True, ts=False, wp=True, show_ui=False)\n",
    "tab = widgets.Tab()\n",
    "light = p3.hemisphere_light()\n",
    "p3.setup_light_widgets(light=light, tab=tab, index=0)\n",
    "display(tab)"
   ]
  },
  {
   "cell_type": "markdown",
   "metadata": {},
   "source": [
    "# Directional Light"
   ]
  },
  {
   "cell_type": "code",
   "execution_count": 7,
   "metadata": {},
   "outputs": [
    {
     "data": {
      "application/vnd.jupyter.widget-view+json": {
       "model_id": "a6aad210ef2944b5a580fdd1dc1b2a32",
       "version_major": 2,
       "version_minor": 0
      },
      "text/plain": [
       "VBox(children=(Figure(camera=PerspectiveCamera(fov=45.0, position=(0.0, 0.0, 2.0), quaternion=(0.0, 0.0, 0.0, …"
      ]
     },
     "metadata": {},
     "output_type": "display_data"
    },
    {
     "data": {
      "text/plain": [
       "None"
      ]
     },
     "metadata": {},
     "output_type": "display_data"
    },
    {
     "data": {
      "application/vnd.jupyter.widget-view+json": {
       "model_id": "3a4df04c44e14a5c992045caaf3dde00",
       "version_major": 2,
       "version_minor": 0
      },
      "text/plain": [
       "Tab(children=(VBox(children=(ColorPicker(value='orange', description='Light Color:', layout=Layout(width='450p…"
      ]
     },
     "metadata": {},
     "output_type": "display_data"
    }
   ],
   "source": [
    "plot_all(kb=True, ts=False, wp=True, show_ui=False)\n",
    "tab = widgets.Tab()\n",
    "light_d = p3.directional_light(light_color=\"orange\")\n",
    "p3.setup_light_widgets(light=light_d, tab=tab, index=0)\n",
    "display(tab)"
   ]
  },
  {
   "cell_type": "markdown",
   "metadata": {},
   "source": [
    "# Spot Light"
   ]
  },
  {
   "cell_type": "code",
   "execution_count": 8,
   "metadata": {},
   "outputs": [
    {
     "data": {
      "application/vnd.jupyter.widget-view+json": {
       "model_id": "04bf2c54cac347afaec147ffc38a2d98",
       "version_major": 2,
       "version_minor": 0
      },
      "text/plain": [
       "VBox(children=(Figure(camera=PerspectiveCamera(fov=45.0, position=(0.0, 0.0, 2.0), quaternion=(0.0, 0.0, 0.0, …"
      ]
     },
     "metadata": {},
     "output_type": "display_data"
    },
    {
     "data": {
      "text/plain": [
       "None"
      ]
     },
     "metadata": {},
     "output_type": "display_data"
    },
    {
     "data": {
      "application/vnd.jupyter.widget-view+json": {
       "model_id": "c81ea556148a48a78c62adc5b73be823",
       "version_major": 2,
       "version_minor": 0
      },
      "text/plain": [
       "Tab(children=(VBox(children=(ColorPicker(value='blue', description='Light Color:', layout=Layout(width='450px'…"
      ]
     },
     "metadata": {},
     "output_type": "display_data"
    }
   ],
   "source": [
    "plot_all(kb=True, ts=False, wp=True, show_ui=False)\n",
    "tab = widgets.Tab()\n",
    "light_s = p3.spot_light(light_color=\"blue\")\n",
    "p3.setup_light_widgets(light=light_s, tab=tab, index=0)\n",
    "display(tab)"
   ]
  },
  {
   "cell_type": "markdown",
   "metadata": {},
   "source": [
    "# Point Light"
   ]
  },
  {
   "cell_type": "code",
   "execution_count": 9,
   "metadata": {},
   "outputs": [
    {
     "data": {
      "application/vnd.jupyter.widget-view+json": {
       "model_id": "2643b94fd3164f528a8cd69a3fadafc6",
       "version_major": 2,
       "version_minor": 0
      },
      "text/plain": [
       "VBox(children=(Figure(camera=PerspectiveCamera(fov=45.0, position=(0.0, 0.0, 2.0), quaternion=(0.0, 0.0, 0.0, …"
      ]
     },
     "metadata": {},
     "output_type": "display_data"
    },
    {
     "data": {
      "text/plain": [
       "None"
      ]
     },
     "metadata": {},
     "output_type": "display_data"
    },
    {
     "data": {
      "application/vnd.jupyter.widget-view+json": {
       "model_id": "79dd9e39a491415f84e04cf60af998ba",
       "version_major": 2,
       "version_minor": 0
      },
      "text/plain": [
       "Tab(children=(VBox(children=(ColorPicker(value='yellow', description='Light Color:', layout=Layout(width='450p…"
      ]
     },
     "metadata": {},
     "output_type": "display_data"
    }
   ],
   "source": [
    "plot_all(kb=True, ts=False, wp=True, show_ui=False)\n",
    "tab = widgets.Tab()\n",
    "light_p = p3.point_light(light_color=\"yellow\")\n",
    "p3.setup_light_widgets(light=light_p, tab=tab, index=0)\n",
    "display(tab)"
   ]
  },
  {
   "cell_type": "markdown",
   "metadata": {},
   "source": [
    "# Material properties"
   ]
  },
  {
   "cell_type": "code",
   "execution_count": 15,
   "metadata": {},
   "outputs": [
    {
     "data": {
      "application/vnd.jupyter.widget-view+json": {
       "model_id": "6ad41a5b0ecb495cab7c8fb8552ec587",
       "version_major": 2,
       "version_minor": 0
      },
      "text/plain": [
       "VBox(children=(Figure(camera=PerspectiveCamera(fov=45.0, position=(0.0, 0.0, 2.0), quaternion=(0.0, 0.0, 0.0, …"
      ]
     },
     "metadata": {},
     "output_type": "display_data"
    },
    {
     "data": {
      "text/plain": [
       "None"
      ]
     },
     "metadata": {},
     "output_type": "display_data"
    },
    {
     "data": {
      "application/vnd.jupyter.widget-view+json": {
       "model_id": "acffd8582fd7450dae83d35990829a64",
       "version_major": 2,
       "version_minor": 0
      },
      "text/plain": [
       "Tab(children=(VBox(children=(ColorPicker(value='blue', description='Light Color:', layout=Layout(width='450px'…"
      ]
     },
     "metadata": {},
     "output_type": "display_data"
    }
   ],
   "source": [
    "[bottle, plane, surf] = plot_all(kb=True, ts=True, wp=True, show_ui=False)\n",
    "lights_dir_spot()\n",
    "p3.show_lighting_widgets()"
   ]
  },
  {
   "cell_type": "markdown",
   "metadata": {},
   "source": [
    "# Animated Light"
   ]
  },
  {
   "cell_type": "code",
   "execution_count": 16,
   "metadata": {},
   "outputs": [
    {
     "data": {
      "application/vnd.jupyter.widget-view+json": {
       "model_id": "ea82d58c0fde4da9b4db496ba6e4d816",
       "version_major": 2,
       "version_minor": 0
      },
      "text/plain": [
       "VBox(children=(Figure(camera=PerspectiveCamera(fov=45.0, position=(0.0, 0.0, 2.0), quaternion=(0.0, 0.0, 0.0, …"
      ]
     },
     "metadata": {},
     "output_type": "display_data"
    },
    {
     "data": {
      "text/plain": [
       "None"
      ]
     },
     "metadata": {},
     "output_type": "display_data"
    }
   ],
   "source": [
    "[b1, p1, s1] = plot_all(kb=True, wp=True, ts=False, show_ui=False, color='white', flat_shading=False)\n",
    "point1=p3.point_light()\n",
    "point1.intensity=0.8"
   ]
  },
  {
   "cell_type": "code",
   "execution_count": 17,
   "metadata": {},
   "outputs": [],
   "source": [
    "# Generating gif with animated light position\n",
    "fps=20\n",
    "frames=40\n",
    "def set_pos(fig, i, fraction):\n",
    "    point1.position = [np.sin(2*np.pi*fraction) * fps, point1.position[1], np.cos(2*np.pi*fraction) * fps]\n",
    "#movie = p3.movie('rotatelight.gif', set_pos, fps=fps, frames=frames, endpoint=False, gif_loop=True)"
   ]
  },
  {
   "cell_type": "markdown",
   "metadata": {},
   "source": [
    "<img src=\"./rotatelight.gif\" width=\"400\" align=\"center\">"
   ]
  }
 ],
 "metadata": {
  "kernelspec": {
   "display_name": "Python 3",
   "language": "python",
   "name": "python3"
  },
  "language_info": {
   "codemirror_mode": {
    "name": "ipython",
    "version": 3
   },
   "file_extension": ".py",
   "mimetype": "text/x-python",
   "name": "python",
   "nbconvert_exporter": "python",
   "pygments_lexer": "ipython3",
   "version": "3.8.3"
  }
 },
 "nbformat": 4,
 "nbformat_minor": 2
}
